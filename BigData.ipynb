{
  "cells": [
    {
      "cell_type": "markdown",
      "metadata": {
        "id": "view-in-github",
        "colab_type": "text"
      },
      "source": [
        "<a href=\"https://colab.research.google.com/github/hamzasabouri/Healthcare-Applications/blob/main/BigData.ipynb\" target=\"_parent\"><img src=\"https://colab.research.google.com/assets/colab-badge.svg\" alt=\"Open In Colab\"/></a>"
      ]
    },
    {
      "cell_type": "markdown",
      "metadata": {
        "id": "ho74omuvLsW9"
      },
      "source": [
        "Telecharger fichier"
      ]
    },
    {
      "cell_type": "code",
      "execution_count": null,
      "metadata": {
        "colab": {
          "base_uri": "https://localhost:8080/",
          "height": 73
        },
        "id": "X_ewyzjBLRMd",
        "outputId": "09d45333-f552-46cb-f29d-16071b5bfbcb"
      },
      "outputs": [
        {
          "data": {
            "text/html": [
              "\n",
              "     <input type=\"file\" id=\"files-ea05f3f8-8e8c-4c0d-b173-a2e58eb65cbf\" name=\"files[]\" multiple disabled\n",
              "        style=\"border:none\" />\n",
              "     <output id=\"result-ea05f3f8-8e8c-4c0d-b173-a2e58eb65cbf\">\n",
              "      Upload widget is only available when the cell has been executed in the\n",
              "      current browser session. Please rerun this cell to enable.\n",
              "      </output>\n",
              "      <script>// Copyright 2017 Google LLC\n",
              "//\n",
              "// Licensed under the Apache License, Version 2.0 (the \"License\");\n",
              "// you may not use this file except in compliance with the License.\n",
              "// You may obtain a copy of the License at\n",
              "//\n",
              "//      http://www.apache.org/licenses/LICENSE-2.0\n",
              "//\n",
              "// Unless required by applicable law or agreed to in writing, software\n",
              "// distributed under the License is distributed on an \"AS IS\" BASIS,\n",
              "// WITHOUT WARRANTIES OR CONDITIONS OF ANY KIND, either express or implied.\n",
              "// See the License for the specific language governing permissions and\n",
              "// limitations under the License.\n",
              "\n",
              "/**\n",
              " * @fileoverview Helpers for google.colab Python module.\n",
              " */\n",
              "(function(scope) {\n",
              "function span(text, styleAttributes = {}) {\n",
              "  const element = document.createElement('span');\n",
              "  element.textContent = text;\n",
              "  for (const key of Object.keys(styleAttributes)) {\n",
              "    element.style[key] = styleAttributes[key];\n",
              "  }\n",
              "  return element;\n",
              "}\n",
              "\n",
              "// Max number of bytes which will be uploaded at a time.\n",
              "const MAX_PAYLOAD_SIZE = 100 * 1024;\n",
              "\n",
              "function _uploadFiles(inputId, outputId) {\n",
              "  const steps = uploadFilesStep(inputId, outputId);\n",
              "  const outputElement = document.getElementById(outputId);\n",
              "  // Cache steps on the outputElement to make it available for the next call\n",
              "  // to uploadFilesContinue from Python.\n",
              "  outputElement.steps = steps;\n",
              "\n",
              "  return _uploadFilesContinue(outputId);\n",
              "}\n",
              "\n",
              "// This is roughly an async generator (not supported in the browser yet),\n",
              "// where there are multiple asynchronous steps and the Python side is going\n",
              "// to poll for completion of each step.\n",
              "// This uses a Promise to block the python side on completion of each step,\n",
              "// then passes the result of the previous step as the input to the next step.\n",
              "function _uploadFilesContinue(outputId) {\n",
              "  const outputElement = document.getElementById(outputId);\n",
              "  const steps = outputElement.steps;\n",
              "\n",
              "  const next = steps.next(outputElement.lastPromiseValue);\n",
              "  return Promise.resolve(next.value.promise).then((value) => {\n",
              "    // Cache the last promise value to make it available to the next\n",
              "    // step of the generator.\n",
              "    outputElement.lastPromiseValue = value;\n",
              "    return next.value.response;\n",
              "  });\n",
              "}\n",
              "\n",
              "/**\n",
              " * Generator function which is called between each async step of the upload\n",
              " * process.\n",
              " * @param {string} inputId Element ID of the input file picker element.\n",
              " * @param {string} outputId Element ID of the output display.\n",
              " * @return {!Iterable<!Object>} Iterable of next steps.\n",
              " */\n",
              "function* uploadFilesStep(inputId, outputId) {\n",
              "  const inputElement = document.getElementById(inputId);\n",
              "  inputElement.disabled = false;\n",
              "\n",
              "  const outputElement = document.getElementById(outputId);\n",
              "  outputElement.innerHTML = '';\n",
              "\n",
              "  const pickedPromise = new Promise((resolve) => {\n",
              "    inputElement.addEventListener('change', (e) => {\n",
              "      resolve(e.target.files);\n",
              "    });\n",
              "  });\n",
              "\n",
              "  const cancel = document.createElement('button');\n",
              "  inputElement.parentElement.appendChild(cancel);\n",
              "  cancel.textContent = 'Cancel upload';\n",
              "  const cancelPromise = new Promise((resolve) => {\n",
              "    cancel.onclick = () => {\n",
              "      resolve(null);\n",
              "    };\n",
              "  });\n",
              "\n",
              "  // Wait for the user to pick the files.\n",
              "  const files = yield {\n",
              "    promise: Promise.race([pickedPromise, cancelPromise]),\n",
              "    response: {\n",
              "      action: 'starting',\n",
              "    }\n",
              "  };\n",
              "\n",
              "  cancel.remove();\n",
              "\n",
              "  // Disable the input element since further picks are not allowed.\n",
              "  inputElement.disabled = true;\n",
              "\n",
              "  if (!files) {\n",
              "    return {\n",
              "      response: {\n",
              "        action: 'complete',\n",
              "      }\n",
              "    };\n",
              "  }\n",
              "\n",
              "  for (const file of files) {\n",
              "    const li = document.createElement('li');\n",
              "    li.append(span(file.name, {fontWeight: 'bold'}));\n",
              "    li.append(span(\n",
              "        `(${file.type || 'n/a'}) - ${file.size} bytes, ` +\n",
              "        `last modified: ${\n",
              "            file.lastModifiedDate ? file.lastModifiedDate.toLocaleDateString() :\n",
              "                                    'n/a'} - `));\n",
              "    const percent = span('0% done');\n",
              "    li.appendChild(percent);\n",
              "\n",
              "    outputElement.appendChild(li);\n",
              "\n",
              "    const fileDataPromise = new Promise((resolve) => {\n",
              "      const reader = new FileReader();\n",
              "      reader.onload = (e) => {\n",
              "        resolve(e.target.result);\n",
              "      };\n",
              "      reader.readAsArrayBuffer(file);\n",
              "    });\n",
              "    // Wait for the data to be ready.\n",
              "    let fileData = yield {\n",
              "      promise: fileDataPromise,\n",
              "      response: {\n",
              "        action: 'continue',\n",
              "      }\n",
              "    };\n",
              "\n",
              "    // Use a chunked sending to avoid message size limits. See b/62115660.\n",
              "    let position = 0;\n",
              "    do {\n",
              "      const length = Math.min(fileData.byteLength - position, MAX_PAYLOAD_SIZE);\n",
              "      const chunk = new Uint8Array(fileData, position, length);\n",
              "      position += length;\n",
              "\n",
              "      const base64 = btoa(String.fromCharCode.apply(null, chunk));\n",
              "      yield {\n",
              "        response: {\n",
              "          action: 'append',\n",
              "          file: file.name,\n",
              "          data: base64,\n",
              "        },\n",
              "      };\n",
              "\n",
              "      let percentDone = fileData.byteLength === 0 ?\n",
              "          100 :\n",
              "          Math.round((position / fileData.byteLength) * 100);\n",
              "      percent.textContent = `${percentDone}% done`;\n",
              "\n",
              "    } while (position < fileData.byteLength);\n",
              "  }\n",
              "\n",
              "  // All done.\n",
              "  yield {\n",
              "    response: {\n",
              "      action: 'complete',\n",
              "    }\n",
              "  };\n",
              "}\n",
              "\n",
              "scope.google = scope.google || {};\n",
              "scope.google.colab = scope.google.colab || {};\n",
              "scope.google.colab._files = {\n",
              "  _uploadFiles,\n",
              "  _uploadFilesContinue,\n",
              "};\n",
              "})(self);\n",
              "</script> "
            ],
            "text/plain": [
              "<IPython.core.display.HTML object>"
            ]
          },
          "metadata": {},
          "output_type": "display_data"
        },
        {
          "name": "stdout",
          "output_type": "stream",
          "text": [
            "Saving symptoms_diseases_modified.csv to symptoms_diseases_modified.csv\n"
          ]
        }
      ],
      "source": [
        "from google.colab import files\n",
        "uploaded = files.upload()"
      ]
    },
    {
      "cell_type": "markdown",
      "metadata": {
        "id": "clUECN-gLwsK"
      },
      "source": [
        "Liste de fichier"
      ]
    },
    {
      "cell_type": "code",
      "execution_count": null,
      "metadata": {
        "colab": {
          "base_uri": "https://localhost:8080/"
        },
        "id": "Z4u3rYZGLr1N",
        "outputId": "deeeea0d-db11-4f5b-aa17-c2dedc09d66c"
      },
      "outputs": [
        {
          "data": {
            "text/plain": [
              "['.config', 'symptoms_diseases_modified.csv', 'sample_data']"
            ]
          },
          "execution_count": 2,
          "metadata": {},
          "output_type": "execute_result"
        }
      ],
      "source": [
        "import os\n",
        "os.listdir()\n"
      ]
    },
    {
      "cell_type": "markdown",
      "metadata": {
        "id": "e7CQeb9WMCGW"
      },
      "source": [
        "Bibliotheque"
      ]
    },
    {
      "cell_type": "code",
      "execution_count": null,
      "metadata": {
        "colab": {
          "background_save": true,
          "base_uri": "https://localhost:8080/"
        },
        "id": "QH-EMns_MFDn",
        "outputId": "db974c42-ad7b-4875-a8e5-e15dcc5b00cd"
      },
      "outputs": [
        {
          "name": "stdout",
          "output_type": "stream",
          "text": [
            "Requirement already satisfied: pyspark in /usr/local/lib/python3.11/dist-packages (3.5.4)\n",
            "Collecting gradio\n",
            "  Downloading gradio-5.16.0-py3-none-any.whl.metadata (16 kB)\n",
            "Requirement already satisfied: py4j==0.10.9.7 in /usr/local/lib/python3.11/dist-packages (from pyspark) (0.10.9.7)\n",
            "Collecting aiofiles<24.0,>=22.0 (from gradio)\n",
            "  Downloading aiofiles-23.2.1-py3-none-any.whl.metadata (9.7 kB)\n",
            "Requirement already satisfied: anyio<5.0,>=3.0 in /usr/local/lib/python3.11/dist-packages (from gradio) (3.7.1)\n",
            "Collecting fastapi<1.0,>=0.115.2 (from gradio)\n",
            "  Downloading fastapi-0.115.8-py3-none-any.whl.metadata (27 kB)\n",
            "Collecting ffmpy (from gradio)\n",
            "  Downloading ffmpy-0.5.0-py3-none-any.whl.metadata (3.0 kB)\n",
            "Collecting gradio-client==1.7.0 (from gradio)\n",
            "  Downloading gradio_client-1.7.0-py3-none-any.whl.metadata (7.1 kB)\n",
            "Requirement already satisfied: httpx>=0.24.1 in /usr/local/lib/python3.11/dist-packages (from gradio) (0.28.1)\n",
            "Requirement already satisfied: huggingface-hub>=0.28.1 in /usr/local/lib/python3.11/dist-packages (from gradio) (0.28.1)\n",
            "Requirement already satisfied: jinja2<4.0 in /usr/local/lib/python3.11/dist-packages (from gradio) (3.1.5)\n",
            "Collecting markupsafe~=2.0 (from gradio)\n",
            "  Downloading MarkupSafe-2.1.5-cp311-cp311-manylinux_2_17_x86_64.manylinux2014_x86_64.whl.metadata (3.0 kB)\n",
            "Requirement already satisfied: numpy<3.0,>=1.0 in /usr/local/lib/python3.11/dist-packages (from gradio) (1.26.4)\n",
            "Requirement already satisfied: orjson~=3.0 in /usr/local/lib/python3.11/dist-packages (from gradio) (3.10.15)\n",
            "Requirement already satisfied: packaging in /usr/local/lib/python3.11/dist-packages (from gradio) (24.2)\n",
            "Requirement already satisfied: pandas<3.0,>=1.0 in /usr/local/lib/python3.11/dist-packages (from gradio) (2.2.2)\n",
            "Requirement already satisfied: pillow<12.0,>=8.0 in /usr/local/lib/python3.11/dist-packages (from gradio) (11.1.0)\n",
            "Requirement already satisfied: pydantic>=2.0 in /usr/local/lib/python3.11/dist-packages (from gradio) (2.10.6)\n",
            "Collecting pydub (from gradio)\n",
            "  Downloading pydub-0.25.1-py2.py3-none-any.whl.metadata (1.4 kB)\n",
            "Collecting python-multipart>=0.0.18 (from gradio)\n",
            "  Downloading python_multipart-0.0.20-py3-none-any.whl.metadata (1.8 kB)\n",
            "Requirement already satisfied: pyyaml<7.0,>=5.0 in /usr/local/lib/python3.11/dist-packages (from gradio) (6.0.2)\n",
            "Collecting ruff>=0.9.3 (from gradio)\n",
            "  Downloading ruff-0.9.6-py3-none-manylinux_2_17_x86_64.manylinux2014_x86_64.whl.metadata (25 kB)\n",
            "Collecting safehttpx<0.2.0,>=0.1.6 (from gradio)\n",
            "  Downloading safehttpx-0.1.6-py3-none-any.whl.metadata (4.2 kB)\n",
            "Collecting semantic-version~=2.0 (from gradio)\n",
            "  Downloading semantic_version-2.10.0-py2.py3-none-any.whl.metadata (9.7 kB)\n",
            "Collecting starlette<1.0,>=0.40.0 (from gradio)\n",
            "  Downloading starlette-0.45.3-py3-none-any.whl.metadata (6.3 kB)\n",
            "Collecting tomlkit<0.14.0,>=0.12.0 (from gradio)\n",
            "  Downloading tomlkit-0.13.2-py3-none-any.whl.metadata (2.7 kB)\n",
            "Requirement already satisfied: typer<1.0,>=0.12 in /usr/local/lib/python3.11/dist-packages (from gradio) (0.15.1)\n",
            "Requirement already satisfied: typing-extensions~=4.0 in /usr/local/lib/python3.11/dist-packages (from gradio) (4.12.2)\n",
            "Collecting uvicorn>=0.14.0 (from gradio)\n",
            "  Downloading uvicorn-0.34.0-py3-none-any.whl.metadata (6.5 kB)\n",
            "Requirement already satisfied: fsspec in /usr/local/lib/python3.11/dist-packages (from gradio-client==1.7.0->gradio) (2024.10.0)\n",
            "Requirement already satisfied: websockets<15.0,>=10.0 in /usr/local/lib/python3.11/dist-packages (from gradio-client==1.7.0->gradio) (14.2)\n",
            "Requirement already satisfied: idna>=2.8 in /usr/local/lib/python3.11/dist-packages (from anyio<5.0,>=3.0->gradio) (3.10)\n",
            "Requirement already satisfied: sniffio>=1.1 in /usr/local/lib/python3.11/dist-packages (from anyio<5.0,>=3.0->gradio) (1.3.1)\n",
            "Requirement already satisfied: certifi in /usr/local/lib/python3.11/dist-packages (from httpx>=0.24.1->gradio) (2025.1.31)\n",
            "Requirement already satisfied: httpcore==1.* in /usr/local/lib/python3.11/dist-packages (from httpx>=0.24.1->gradio) (1.0.7)\n",
            "Requirement already satisfied: h11<0.15,>=0.13 in /usr/local/lib/python3.11/dist-packages (from httpcore==1.*->httpx>=0.24.1->gradio) (0.14.0)\n",
            "Requirement already satisfied: filelock in /usr/local/lib/python3.11/dist-packages (from huggingface-hub>=0.28.1->gradio) (3.17.0)\n",
            "Requirement already satisfied: requests in /usr/local/lib/python3.11/dist-packages (from huggingface-hub>=0.28.1->gradio) (2.32.3)\n",
            "Requirement already satisfied: tqdm>=4.42.1 in /usr/local/lib/python3.11/dist-packages (from huggingface-hub>=0.28.1->gradio) (4.67.1)\n",
            "Requirement already satisfied: python-dateutil>=2.8.2 in /usr/local/lib/python3.11/dist-packages (from pandas<3.0,>=1.0->gradio) (2.8.2)\n",
            "Requirement already satisfied: pytz>=2020.1 in /usr/local/lib/python3.11/dist-packages (from pandas<3.0,>=1.0->gradio) (2025.1)\n",
            "Requirement already satisfied: tzdata>=2022.7 in /usr/local/lib/python3.11/dist-packages (from pandas<3.0,>=1.0->gradio) (2025.1)\n",
            "Requirement already satisfied: annotated-types>=0.6.0 in /usr/local/lib/python3.11/dist-packages (from pydantic>=2.0->gradio) (0.7.0)\n",
            "Requirement already satisfied: pydantic-core==2.27.2 in /usr/local/lib/python3.11/dist-packages (from pydantic>=2.0->gradio) (2.27.2)\n",
            "Requirement already satisfied: click>=8.0.0 in /usr/local/lib/python3.11/dist-packages (from typer<1.0,>=0.12->gradio) (8.1.8)\n",
            "Requirement already satisfied: shellingham>=1.3.0 in /usr/local/lib/python3.11/dist-packages (from typer<1.0,>=0.12->gradio) (1.5.4)\n",
            "Requirement already satisfied: rich>=10.11.0 in /usr/local/lib/python3.11/dist-packages (from typer<1.0,>=0.12->gradio) (13.9.4)\n",
            "Requirement already satisfied: six>=1.5 in /usr/local/lib/python3.11/dist-packages (from python-dateutil>=2.8.2->pandas<3.0,>=1.0->gradio) (1.17.0)\n",
            "Requirement already satisfied: markdown-it-py>=2.2.0 in /usr/local/lib/python3.11/dist-packages (from rich>=10.11.0->typer<1.0,>=0.12->gradio) (3.0.0)\n",
            "Requirement already satisfied: pygments<3.0.0,>=2.13.0 in /usr/local/lib/python3.11/dist-packages (from rich>=10.11.0->typer<1.0,>=0.12->gradio) (2.18.0)\n",
            "Requirement already satisfied: charset-normalizer<4,>=2 in /usr/local/lib/python3.11/dist-packages (from requests->huggingface-hub>=0.28.1->gradio) (3.4.1)\n",
            "Requirement already satisfied: urllib3<3,>=1.21.1 in /usr/local/lib/python3.11/dist-packages (from requests->huggingface-hub>=0.28.1->gradio) (2.3.0)\n",
            "Requirement already satisfied: mdurl~=0.1 in /usr/local/lib/python3.11/dist-packages (from markdown-it-py>=2.2.0->rich>=10.11.0->typer<1.0,>=0.12->gradio) (0.1.2)\n",
            "Downloading gradio-5.16.0-py3-none-any.whl (62.2 MB)\n",
            "\u001b[2K   \u001b[90m━━━━━━━━━━━━━━━━━━━━━━━━━━━━━━━━━━━━━━━━\u001b[0m \u001b[32m62.2/62.2 MB\u001b[0m \u001b[31m6.9 MB/s\u001b[0m eta \u001b[36m0:00:00\u001b[0m\n",
            "\u001b[?25hDownloading gradio_client-1.7.0-py3-none-any.whl (321 kB)\n",
            "\u001b[2K   \u001b[90m━━━━━━━━━━━━━━━━━━━━━━━━━━━━━━━━━━━━━━━━\u001b[0m \u001b[32m321.9/321.9 kB\u001b[0m \u001b[31m10.3 MB/s\u001b[0m eta \u001b[36m0:00:00\u001b[0m\n",
            "\u001b[?25hDownloading aiofiles-23.2.1-py3-none-any.whl (15 kB)\n",
            "Downloading fastapi-0.115.8-py3-none-any.whl (94 kB)\n",
            "\u001b[2K   \u001b[90m━━━━━━━━━━━━━━━━━━━━━━━━━━━━━━━━━━━━━━━━\u001b[0m \u001b[32m94.8/94.8 kB\u001b[0m \u001b[31m6.4 MB/s\u001b[0m eta \u001b[36m0:00:00\u001b[0m\n",
            "\u001b[?25hDownloading MarkupSafe-2.1.5-cp311-cp311-manylinux_2_17_x86_64.manylinux2014_x86_64.whl (28 kB)\n",
            "Downloading python_multipart-0.0.20-py3-none-any.whl (24 kB)\n",
            "Downloading ruff-0.9.6-py3-none-manylinux_2_17_x86_64.manylinux2014_x86_64.whl (12.5 MB)\n",
            "\u001b[2K   \u001b[90m━━━━━━━━━━━━━━━━━━━━━━━━━━━━━━━━━━━━━━━━\u001b[0m \u001b[32m12.5/12.5 MB\u001b[0m \u001b[31m26.4 MB/s\u001b[0m eta \u001b[36m0:00:00\u001b[0m\n",
            "\u001b[?25hDownloading safehttpx-0.1.6-py3-none-any.whl (8.7 kB)\n",
            "Downloading semantic_version-2.10.0-py2.py3-none-any.whl (15 kB)\n",
            "Downloading starlette-0.45.3-py3-none-any.whl (71 kB)\n",
            "\u001b[2K   \u001b[90m━━━━━━━━━━━━━━━━━━━━━━━━━━━━━━━━━━━━━━━━\u001b[0m \u001b[32m71.5/71.5 kB\u001b[0m \u001b[31m3.4 MB/s\u001b[0m eta \u001b[36m0:00:00\u001b[0m\n",
            "\u001b[?25hDownloading tomlkit-0.13.2-py3-none-any.whl (37 kB)\n",
            "Downloading uvicorn-0.34.0-py3-none-any.whl (62 kB)\n",
            "\u001b[2K   \u001b[90m━━━━━━━━━━━━━━━━━━━━━━━━━━━━━━━━━━━━━━━━\u001b[0m \u001b[32m62.3/62.3 kB\u001b[0m \u001b[31m3.5 MB/s\u001b[0m eta \u001b[36m0:00:00\u001b[0m\n",
            "\u001b[?25hDownloading ffmpy-0.5.0-py3-none-any.whl (6.0 kB)\n",
            "Downloading pydub-0.25.1-py2.py3-none-any.whl (32 kB)\n",
            "Installing collected packages: pydub, uvicorn, tomlkit, semantic-version, ruff, python-multipart, markupsafe, ffmpy, aiofiles, starlette, safehttpx, gradio-client, fastapi, gradio\n",
            "  Attempting uninstall: markupsafe\n",
            "    Found existing installation: MarkupSafe 3.0.2\n",
            "    Uninstalling MarkupSafe-3.0.2:\n",
            "      Successfully uninstalled MarkupSafe-3.0.2\n",
            "Successfully installed aiofiles-23.2.1 fastapi-0.115.8 ffmpy-0.5.0 gradio-5.16.0 gradio-client-1.7.0 markupsafe-2.1.5 pydub-0.25.1 python-multipart-0.0.20 ruff-0.9.6 safehttpx-0.1.6 semantic-version-2.10.0 starlette-0.45.3 tomlkit-0.13.2 uvicorn-0.34.0\n"
          ]
        }
      ],
      "source": [
        "!pip install pyspark  gradio\n",
        "\n"
      ]
    },
    {
      "cell_type": "markdown",
      "metadata": {
        "id": "yX1ZdB_J2MYx"
      },
      "source": [
        "Code de source"
      ]
    },
    {
      "cell_type": "code",
      "execution_count": null,
      "metadata": {
        "colab": {
          "base_uri": "https://localhost:8080/",
          "height": 646
        },
        "id": "KqMOPCNkM_dM",
        "outputId": "c33f4006-6484-46a5-cc2e-6e16a4435e5e"
      },
      "outputs": [
        {
          "name": "stdout",
          "output_type": "stream",
          "text": [
            "Running Gradio in a Colab notebook requires sharing enabled. Automatically setting `share=True` (you can turn this off by setting `share=False` in `launch()` explicitly).\n",
            "\n",
            "Colab notebook detected. To show errors in colab notebook, set debug=True in launch()\n",
            "* Running on public URL: https://57d1473bd0912fb121.gradio.live\n",
            "\n",
            "This share link expires in 72 hours. For free permanent hosting and GPU upgrades, run `gradio deploy` from the terminal in the working directory to deploy to Hugging Face Spaces (https://huggingface.co/spaces)\n"
          ]
        },
        {
          "data": {
            "text/html": [
              "<div><iframe src=\"https://57d1473bd0912fb121.gradio.live\" width=\"100%\" height=\"500\" allow=\"autoplay; camera; microphone; clipboard-read; clipboard-write;\" frameborder=\"0\" allowfullscreen></iframe></div>"
            ],
            "text/plain": [
              "<IPython.core.display.HTML object>"
            ]
          },
          "metadata": {},
          "output_type": "display_data"
        },
        {
          "data": {
            "text/plain": []
          },
          "execution_count": 4,
          "metadata": {},
          "output_type": "execute_result"
        }
      ],
      "source": [
        "import gradio as gr\n",
        "import pandas as pd\n",
        "from pyspark.sql import SparkSession\n",
        "from pyspark.ml.feature import Tokenizer, CountVectorizer, StringIndexer\n",
        "from pyspark.ml.classification import LogisticRegression\n",
        "from pyspark.ml import Pipeline\n",
        "from pyspark.ml.evaluation import MulticlassClassificationEvaluator\n",
        "from pyspark.sql.functions import udf, col\n",
        "from pyspark.ml.linalg import Vector\n",
        "from pyspark.sql.types import StringType\n",
        "\n",
        "# Initialiser Spark\n",
        "def initialize_spark():\n",
        "    return SparkSession.builder.appName(\"Medical Recommender\").master(\"local[*]\").getOrCreate()\n",
        "\n",
        "spark = initialize_spark()\n",
        "\n",
        "# Charger les données\n",
        "data = spark.read.option(\"header\", \"true\").option(\"inferSchema\", \"true\").csv(\"symptoms_diseases_modified.csv\")\n",
        "\n",
        "if not (\"Symptoms\" in data.columns and \"Disease Predictions\" in data.columns):\n",
        "    raise ValueError(\"Le CSV doit contenir les colonnes 'Symptoms' et 'Disease Predictions'\")\n",
        "\n",
        "# Prétraitement et pipeline\n",
        "indexer = StringIndexer(inputCol=\"Disease Predictions\", outputCol=\"Label\").fit(data)\n",
        "tokenizer = Tokenizer(inputCol=\"Symptoms\", outputCol=\"Tokens\")\n",
        "vectorizer = CountVectorizer(inputCol=\"Tokens\", outputCol=\"Features\")\n",
        "classifier = LogisticRegression(labelCol=\"Label\", featuresCol=\"Features\", maxIter=10)\n",
        "\n",
        "pipeline = Pipeline(stages=[indexer, tokenizer, vectorizer, classifier])\n",
        "training_data, test_data = data.randomSplit([0.8, 0.2], seed=42)\n",
        "model = pipeline.fit(training_data)\n",
        "\n",
        "# Liste des symptômes uniques\n",
        "symptoms_list = [\n",
        "\"Chronic cough\", \"Weight loss\", \"Night sweats\", \"Fever\", \"High fever\", \"Chills\", \"Sweating\", \"Muscle aches\", \"Persistent fatigue\", \"Swollen lymph nodes\", \"Frequent infections\", \"Jaundice\", \"Abdominal pain\", \"Dark urine\", \"Fatigue\", \"Nausea\", \"Joint pain\", \"Cough\", \"Runny nose\", \"Rash\", \"Mild fever\", \"Swollen salivary glands\", \"Headache\", \"Muscle pain\", \"Sore throat\", \"Swollen neck\", \"Difficulty breathing\", \"Severe coughing fits\", \"Vomiting\", \"Muscle stiffness\", \"Jaw cramping\", \"Difficulty swallowing\", \"Seizures\", \"Severe diarrhea\", \"Dehydration\", \"Leg cramps\", \"Painless sore\", \"Skin rash\", \"Painful urination\", \"Genital discharge\", \"Pelvic pain\", \"Swollen testicles\", \"Lower abdominal pain\", \"Abnormal discharge\", \"Bleeding after sex\", \"Skin lesions\", \"Numbness\", \"Muscle weakness\", \"Eye problems\", \"Severe headache\", \"Stiff neck\", \"Sensitivity to light\", \"Weakness\", \"Constipation or diarrhea\", \"Red eyes\", \"Bleeding\", \"Severe joint pain\", \"Bleeding gums\", \"Itchy rash\", \"Loss of appetite\", \"Paralysis\", \"Body aches\", \"Butterfly rash\", \"Vision problems\", \"Swelling\", \"Stiffness\", \"Diarrhea\", \"Bloody diarrhea\", \"Urgent bowel movements\", \"Frequent urination\", \"Extreme thirst\", \"Unexplained weight loss\", \"Weight gain\", \"Cold intolerance\", \"Hair thinning\", \"Rapid heartbeat\", \"Bulging eyes\", \"Anxiety\", \"Drooping eyelids\", \"Scaly patches\", \"Itching\", \"Skin redness\", \"Dizziness\", \"Blurred vision\", \"Shortness of breath\", \"Chest pain\", \"Leg pain\", \"Swelling in legs\", \"Sudden weakness\", \"Facial drooping\", \"Speech difficulty\", \"Loss of balance\", \"Sudden shortness of breath\", \"Coughing blood\", \"Heart murmur\", \"Irregular heartbeat\", \"Palpitations\", \"Sharp chest pain\", \"Lump in breast\", \"Nipple discharge\", \"Breast pain\", \"Skin changes\", \"Blood in stool\", \"Weak urine flow\", \"Erectile dysfunction\", \"Easy bruising\", \"Unusual mole\", \"Bleeding mole\", \"Lump under skin\", \"Bone pain\", \"Memory loss\", \"Confusion\", \"Mood changes\", \"Difficulty speaking\", \"Tremors\", \"Slow movement\", \"Balance problems\", \"Loss of consciousness\", \"Unusual sensations\", \"Jerking movements\", \"Muscle twitching\", \"Light sensitivity\", \"Visual disturbances\", \"Involuntary movements\", \"Memory problems\", \"Depression\", \"Difficulty walking\", \"Tingling\", \"Excessive daytime sleepiness\", \"Cataplexy\", \"Sleep paralysis\", \"Hallucinations\", \"Loss of coordination\", \"Scoliosis\", \"Increased thirst\", \"No symptoms early on\", \"Xanthomas\", \"Heart attack risk\", \"Redness\", \"Heat\", \"High blood pressure\", \"High blood sugar\", \"Abdominal obesity\", \"High cholesterol\", \"Excessive body weight\", \"Severe flank pain\", \"Bloody urine\", \"Blood in urine\", \"Wheezing\", \"Chest tightness\", \"Cough with phlegm\", \"Clubbing of fingers\", \"Loss of taste/smell\", \"Dry cough\", \"Cyclical fever\", \"Persistent cough\", \"Excessive thirst\", \"Coughing\", \"Headaches (severe)\", \"Nosebleeds\", \"Throbbing headache\", \"Aura\", \"Abdominal cramps\", \"Right lower abdominal pain\", \"Bloating\", \"Diarrhea/constipation\", \"Gas\", \"Arm weakness\", \"Pain radiating to arm\", \"Cold sweat\", \"Unconsciousness\", \"Persistent sadness\", \"Loss of interest\", \"Sleep changes\", \"Excessive worry\", \"Restlessness\", \"Muscle tension\", \"Concentration issues\", \"Bullseye rash\", \"Itchy blisters\", \"Dry skin\", \"Morning stiffness\", \"Low-grade fever\", \"Chest discomfort\", \"Muscle cramps\", \"Facial pain\", \"Nasal congestion\", \"Postnasal drip\", \"Reduced mobility\", \"Sudden joint pain (big toe)\", \"Tenderness\", \"Red patches with scales\", \"Itchy skin\", \"Dryness\", \"Skin cracking\", \"Urgency to defecate\", \"Burning stomach pain\", \"Blotting\", \"Dark stools\", \"Sudden upper abdominal pain\", \"Burning urination\", \"Cloudy urine\", \"Fever (acute phase)\", \"Blistering sores\", \"Burning sensation\", \"Flu-like symptoms\", \"Koplik spots\", \"Jaw locking\", \"Hyperactivity\", \"Disorientation\", \"Balance issues\", \"Pale skin\", \"Changing mole\", \"Irregular borders\", \"Muscle spasms\", \"Slurred speech\", \"Progressive muscle weakness\", \"Frequent falls\", \"Walking difficulty\", \"Temporary confusion\", \"Staring spells\", \"Uncontrollable movements\", \"Sudden numbness\", \"Agitation\", \"Hydrophobia\", \"Jaw cramps\", \"Painful spasms\", \"Joint swelling\", \"Lower back pain\", \"Reduced chest expansion\", \"Skin thickening\", \"Raynaud phenomenon\", \"Digestive issues\", \"Dry eyes\", \"Dry mouth\", \"Rectal bleeding\", \"Diarrhea with blood\", \"Diarrhea or constipation\", \"Change in bowel habits\", \"Upper abdominal pain\", \"Abdominal pain radiating to back\", \"Right upper abdominal pain\", \"Abdominal discomfort\", \"Darkening skin\", \"Salty tasting skin\", \"Poor growth\", \"Reduced exercise tolerance\", \"Progressive shortness of breath\", \"Coughing up blood\", \"Foul smelling sputum\", \"Recurrent infections\", \"Loud snoring\", \"Daytime sleepiness\", \"Morning headache\", \"Leg swelling\", \"Warmth in affected area\", \"Leg pain while walking\", \"Slow healing wounds\", \"Pulsating feeling in abdomen\", \"Fluttering in chest\", \"Racing heartbeat\", \"New murmur\", \"Leg pain with walking\", \"Yellowish skin deposits\", \"Insulin resistance\", \"Intense joint pain\", \"Redness in joints\", \"Episodes of pain\", \"Swelling in hands and feet\", \"Prolonged bleeding\", \"Kidney problems\", \"Nodal skin eruptions\", \"Dischromic  patches\", \"Continuous sneezing\", \"Shivering\", \"Watering from eyes\", \"Stomach pain\", \"Acidity\", \"Ulcers on tongue\", \"Yellowish skin\", \"Burning micturition\", \"Spotting  urination\", \"Passage of gases\", \"Indigestion\", \"Muscle wasting\", \"Patches in throat\", \"Extra marital contacts\", \"Lethargy\", \"Irregular sugar level\", \"Sunken eyes\", \"Diarrhoea\", \"Breathlessness\", \"Family history\", \"Lack of concentration\", \"Blurred and distorted vision\", \"Excessive hunger\", \"Back pain\", \"Weakness in limbs\", \"Neck pain\", \"Weakness of one body side\", \"Altered sensorium\", \"Yellowing of eyes\", \"Swelling of stomach\", \"Distention of abdomen\", \"Constipation\", \"Pain during bowel movements\", \"Pain in anal region\", \"Bloody stool\", \"Irritation in anus\", \"Cramps\", \"Bruising\", \"Obesity\", \"Swollen legs\", \"Cold hands and feets\", \"Mood swings\", \"Knee pain\", \"Hip joint pain\", \"Swelling joints\", \"Movement stiffness\", \"Painful walking\", \"Spinning movements\", \"Pus filled pimples\", \"Blackheads\", \"Scurring\", \"Bladder discomfort\", \"Foul smell of urine\", \"Continuous feel of urine\", \"Skin peeling\", \"Silver like dusting\", \"Small dents in nails\", \"Blister\", \"Red sore around nose\", \"Yellow crust ooze\"\n",
        "]\n",
        "\n",
        "# Fonction de prédiction\n",
        "def predict_disease(selected_symptoms):\n",
        "    if len(selected_symptoms) > 4:\n",
        "        return \"Veuillez sélectionner un maximum de 4 symptômes.\"\n",
        "\n",
        "    symptoms_str = \", \".join(selected_symptoms)  # Transformer la liste en texte\n",
        "    user_input = spark.createDataFrame([(symptoms_str,)], [\"Symptoms\"])\n",
        "    predictions = model.transform(user_input)\n",
        "    labels = indexer.labels\n",
        "\n",
        "    index_to_label = udf(lambda index: labels[int(index)], StringType())\n",
        "    final_predictions = predictions.withColumn(\"Disease\", index_to_label(col(\"prediction\"))).select(\"Symptoms\", \"Disease\", \"probability\")\n",
        "    predicted_row = final_predictions.collect()[0]\n",
        "    probabilities = predicted_row[\"probability\"].toArray()\n",
        "    top_predictions = sorted(zip(probabilities, labels), key=lambda x: -x[0])[:3]\n",
        "\n",
        "    return {disease: prob for prob, disease in top_predictions}\n",
        "\n",
        "# Interface Gradio\n",
        "iface = gr.Interface(\n",
        "    fn=predict_disease,\n",
        "    inputs=gr.Dropdown(\n",
        "        choices=symptoms_list,\n",
        "        label=\"Sélectionnez vos symptômes (maximum 4)\",\n",
        "        multiselect=True,  # Permet de sélectionner plusieurs symptômes\n",
        "        max_choices=4     # Limite à 4 symptômes maximum\n",
        "    ),\n",
        "    outputs=gr.Label(num_top_classes=3),\n",
        "    title=\"Recommander de Maladies Médicales\",\n",
        "    description=\"Sélectionnez jusqu'à 4 symptômes, puis soumettez pour prédire les maladies possibles avec leurs taux de confiance.\"\n",
        ")\n",
        "\n",
        "iface.launch()\n"
      ]
    }
  ],
  "metadata": {
    "colab": {
      "provenance": [],
      "authorship_tag": "ABX9TyMRf4TfbHl5+JI4rtfLepML",
      "include_colab_link": true
    },
    "kernelspec": {
      "display_name": "Python 3",
      "name": "python3"
    },
    "language_info": {
      "name": "python"
    }
  },
  "nbformat": 4,
  "nbformat_minor": 0
}